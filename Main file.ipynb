{
 "cells": [
  {
   "cell_type": "code",
   "execution_count": 1,
   "id": "d04b8d81-7c68-4c3e-9865-c41928b77ceb",
   "metadata": {
    "tags": []
   },
   "outputs": [],
   "source": [
    "# installing necessary libraries"
   ]
  },
  {
   "cell_type": "code",
   "execution_count": 4,
   "id": "0936f3f8-c398-40ca-a882-c475521e4b74",
   "metadata": {
    "tags": []
   },
   "outputs": [
    {
     "name": "stdout",
     "output_type": "stream",
     "text": [
      "Requirement already satisfied: torch in /home/jupyterlab/conda/envs/python/lib/python3.7/site-packages (1.13.1+cpu)\n",
      "Requirement already satisfied: typing-extensions in /home/jupyterlab/conda/envs/python/lib/python3.7/site-packages (from torch) (4.5.0)\n"
     ]
    }
   ],
   "source": [
    "!pip install torch"
   ]
  },
  {
   "cell_type": "code",
   "execution_count": 5,
   "id": "937f022f-b960-4a25-8a1a-9a4c26a3e6f4",
   "metadata": {
    "tags": []
   },
   "outputs": [
    {
     "name": "stdout",
     "output_type": "stream",
     "text": [
      "Requirement already satisfied: torch in /home/jupyterlab/conda/envs/python/lib/python3.7/site-packages (1.13.1+cpu)\n",
      "Requirement already satisfied: typing-extensions in /home/jupyterlab/conda/envs/python/lib/python3.7/site-packages (from torch) (4.5.0)\n"
     ]
    }
   ],
   "source": [
    "!pip install --upgrade torch"
   ]
  },
  {
   "cell_type": "code",
   "execution_count": 7,
   "id": "71070476-bc29-413e-af39-9832d0b0d780",
   "metadata": {
    "tags": []
   },
   "outputs": [
    {
     "name": "stdout",
     "output_type": "stream",
     "text": [
      "Requirement already satisfied: transformers==4.11.1 in /home/jupyterlab/conda/envs/python/lib/python3.7/site-packages (4.11.1)\n",
      "Requirement already satisfied: filelock in /home/jupyterlab/conda/envs/python/lib/python3.7/site-packages (from transformers==4.11.1) (3.12.2)\n",
      "Requirement already satisfied: huggingface-hub>=0.0.17 in /home/jupyterlab/conda/envs/python/lib/python3.7/site-packages (from transformers==4.11.1) (0.16.4)\n",
      "Requirement already satisfied: numpy>=1.17 in /home/jupyterlab/conda/envs/python/lib/python3.7/site-packages (from transformers==4.11.1) (1.21.6)\n",
      "Requirement already satisfied: packaging>=20.0 in /home/jupyterlab/conda/envs/python/lib/python3.7/site-packages (from transformers==4.11.1) (23.1)\n",
      "Requirement already satisfied: pyyaml>=5.1 in /home/jupyterlab/conda/envs/python/lib/python3.7/site-packages (from transformers==4.11.1) (6.0)\n",
      "Requirement already satisfied: regex!=2019.12.17 in /home/jupyterlab/conda/envs/python/lib/python3.7/site-packages (from transformers==4.11.1) (2024.4.16)\n",
      "Requirement already satisfied: requests in /home/jupyterlab/conda/envs/python/lib/python3.7/site-packages (from transformers==4.11.1) (2.29.0)\n",
      "Requirement already satisfied: sacremoses in /home/jupyterlab/conda/envs/python/lib/python3.7/site-packages (from transformers==4.11.1) (0.0.53)\n",
      "Requirement already satisfied: tokenizers<0.11,>=0.10.1 in /home/jupyterlab/conda/envs/python/lib/python3.7/site-packages (from transformers==4.11.1) (0.10.3)\n",
      "Requirement already satisfied: tqdm>=4.27 in /home/jupyterlab/conda/envs/python/lib/python3.7/site-packages (from transformers==4.11.1) (4.67.1)\n",
      "Requirement already satisfied: importlib-metadata in /home/jupyterlab/conda/envs/python/lib/python3.7/site-packages (from transformers==4.11.1) (4.11.4)\n",
      "Requirement already satisfied: fsspec in /home/jupyterlab/conda/envs/python/lib/python3.7/site-packages (from huggingface-hub>=0.0.17->transformers==4.11.1) (2023.1.0)\n",
      "Requirement already satisfied: typing-extensions>=3.7.4.3 in /home/jupyterlab/conda/envs/python/lib/python3.7/site-packages (from huggingface-hub>=0.0.17->transformers==4.11.1) (4.5.0)\n",
      "Requirement already satisfied: zipp>=0.5 in /home/jupyterlab/conda/envs/python/lib/python3.7/site-packages (from importlib-metadata->transformers==4.11.1) (3.15.0)\n",
      "Requirement already satisfied: charset-normalizer<4,>=2 in /home/jupyterlab/conda/envs/python/lib/python3.7/site-packages (from requests->transformers==4.11.1) (3.1.0)\n",
      "Requirement already satisfied: idna<4,>=2.5 in /home/jupyterlab/conda/envs/python/lib/python3.7/site-packages (from requests->transformers==4.11.1) (3.4)\n",
      "Requirement already satisfied: urllib3<1.27,>=1.21.1 in /home/jupyterlab/conda/envs/python/lib/python3.7/site-packages (from requests->transformers==4.11.1) (1.26.15)\n",
      "Requirement already satisfied: certifi>=2017.4.17 in /home/jupyterlab/conda/envs/python/lib/python3.7/site-packages (from requests->transformers==4.11.1) (2023.5.7)\n",
      "Requirement already satisfied: six in /home/jupyterlab/conda/envs/python/lib/python3.7/site-packages (from sacremoses->transformers==4.11.1) (1.16.0)\n",
      "Requirement already satisfied: click in /home/jupyterlab/conda/envs/python/lib/python3.7/site-packages (from sacremoses->transformers==4.11.1) (8.1.3)\n",
      "Requirement already satisfied: joblib in /home/jupyterlab/conda/envs/python/lib/python3.7/site-packages (from sacremoses->transformers==4.11.1) (1.3.2)\n"
     ]
    }
   ],
   "source": [
    "!pip install transformers==\"4.11.1\"  # Known compatible version [5]"
   ]
  },
  {
   "cell_type": "code",
   "execution_count": 8,
   "id": "e86f6f12-0c5c-4f22-94fe-accdb8a4ad1f",
   "metadata": {
    "tags": []
   },
   "outputs": [
    {
     "name": "stdout",
     "output_type": "stream",
     "text": [
      "Requirement already satisfied: datasets in /home/jupyterlab/conda/envs/python/lib/python3.7/site-packages (2.13.2)\n",
      "Requirement already satisfied: evaluate in /home/jupyterlab/conda/envs/python/lib/python3.7/site-packages (0.4.1)\n",
      "Requirement already satisfied: transformers[sentencepiece] in /home/jupyterlab/conda/envs/python/lib/python3.7/site-packages (4.11.1)\n",
      "Requirement already satisfied: numpy>=1.17 in /home/jupyterlab/conda/envs/python/lib/python3.7/site-packages (from datasets) (1.21.6)\n",
      "Requirement already satisfied: pyarrow>=8.0.0 in /home/jupyterlab/conda/envs/python/lib/python3.7/site-packages (from datasets) (12.0.1)\n",
      "Requirement already satisfied: dill<0.3.7,>=0.3.0 in /home/jupyterlab/conda/envs/python/lib/python3.7/site-packages (from datasets) (0.3.6)\n",
      "Requirement already satisfied: pandas in /home/jupyterlab/conda/envs/python/lib/python3.7/site-packages (from datasets) (1.3.5)\n",
      "Requirement already satisfied: requests>=2.19.0 in /home/jupyterlab/conda/envs/python/lib/python3.7/site-packages (from datasets) (2.29.0)\n",
      "Requirement already satisfied: tqdm>=4.62.1 in /home/jupyterlab/conda/envs/python/lib/python3.7/site-packages (from datasets) (4.67.1)\n",
      "Requirement already satisfied: xxhash in /home/jupyterlab/conda/envs/python/lib/python3.7/site-packages (from datasets) (3.5.0)\n",
      "Requirement already satisfied: multiprocess in /home/jupyterlab/conda/envs/python/lib/python3.7/site-packages (from datasets) (0.70.14)\n",
      "Requirement already satisfied: fsspec[http]>=2021.11.1 in /home/jupyterlab/conda/envs/python/lib/python3.7/site-packages (from datasets) (2023.1.0)\n",
      "Requirement already satisfied: aiohttp in /home/jupyterlab/conda/envs/python/lib/python3.7/site-packages (from datasets) (3.8.6)\n",
      "Requirement already satisfied: huggingface-hub<1.0.0,>=0.11.0 in /home/jupyterlab/conda/envs/python/lib/python3.7/site-packages (from datasets) (0.16.4)\n",
      "Requirement already satisfied: packaging in /home/jupyterlab/conda/envs/python/lib/python3.7/site-packages (from datasets) (23.1)\n",
      "Requirement already satisfied: pyyaml>=5.1 in /home/jupyterlab/conda/envs/python/lib/python3.7/site-packages (from datasets) (6.0)\n",
      "Requirement already satisfied: importlib-metadata in /home/jupyterlab/conda/envs/python/lib/python3.7/site-packages (from datasets) (4.11.4)\n",
      "Requirement already satisfied: responses<0.19 in /home/jupyterlab/conda/envs/python/lib/python3.7/site-packages (from evaluate) (0.18.0)\n",
      "Requirement already satisfied: filelock in /home/jupyterlab/conda/envs/python/lib/python3.7/site-packages (from transformers[sentencepiece]) (3.12.2)\n",
      "Requirement already satisfied: regex!=2019.12.17 in /home/jupyterlab/conda/envs/python/lib/python3.7/site-packages (from transformers[sentencepiece]) (2024.4.16)\n",
      "Requirement already satisfied: sacremoses in /home/jupyterlab/conda/envs/python/lib/python3.7/site-packages (from transformers[sentencepiece]) (0.0.53)\n",
      "Requirement already satisfied: tokenizers<0.11,>=0.10.1 in /home/jupyterlab/conda/envs/python/lib/python3.7/site-packages (from transformers[sentencepiece]) (0.10.3)\n",
      "Requirement already satisfied: sentencepiece!=0.1.92,>=0.1.91 in /home/jupyterlab/conda/envs/python/lib/python3.7/site-packages (from transformers[sentencepiece]) (0.2.0)\n",
      "Requirement already satisfied: protobuf in /home/jupyterlab/conda/envs/python/lib/python3.7/site-packages (from transformers[sentencepiece]) (4.21.8)\n",
      "Requirement already satisfied: attrs>=17.3.0 in /home/jupyterlab/conda/envs/python/lib/python3.7/site-packages (from aiohttp->datasets) (23.1.0)\n",
      "Requirement already satisfied: charset-normalizer<4.0,>=2.0 in /home/jupyterlab/conda/envs/python/lib/python3.7/site-packages (from aiohttp->datasets) (3.1.0)\n",
      "Requirement already satisfied: multidict<7.0,>=4.5 in /home/jupyterlab/conda/envs/python/lib/python3.7/site-packages (from aiohttp->datasets) (6.0.5)\n",
      "Requirement already satisfied: async-timeout<5.0,>=4.0.0a3 in /home/jupyterlab/conda/envs/python/lib/python3.7/site-packages (from aiohttp->datasets) (4.0.3)\n",
      "Requirement already satisfied: yarl<2.0,>=1.0 in /home/jupyterlab/conda/envs/python/lib/python3.7/site-packages (from aiohttp->datasets) (1.9.4)\n",
      "Requirement already satisfied: frozenlist>=1.1.1 in /home/jupyterlab/conda/envs/python/lib/python3.7/site-packages (from aiohttp->datasets) (1.3.3)\n",
      "Requirement already satisfied: aiosignal>=1.1.2 in /home/jupyterlab/conda/envs/python/lib/python3.7/site-packages (from aiohttp->datasets) (1.3.1)\n",
      "Requirement already satisfied: asynctest==0.13.0 in /home/jupyterlab/conda/envs/python/lib/python3.7/site-packages (from aiohttp->datasets) (0.13.0)\n",
      "Requirement already satisfied: typing-extensions>=3.7.4 in /home/jupyterlab/conda/envs/python/lib/python3.7/site-packages (from aiohttp->datasets) (4.5.0)\n",
      "Requirement already satisfied: idna<4,>=2.5 in /home/jupyterlab/conda/envs/python/lib/python3.7/site-packages (from requests>=2.19.0->datasets) (3.4)\n",
      "Requirement already satisfied: urllib3<1.27,>=1.21.1 in /home/jupyterlab/conda/envs/python/lib/python3.7/site-packages (from requests>=2.19.0->datasets) (1.26.15)\n",
      "Requirement already satisfied: certifi>=2017.4.17 in /home/jupyterlab/conda/envs/python/lib/python3.7/site-packages (from requests>=2.19.0->datasets) (2023.5.7)\n",
      "Requirement already satisfied: zipp>=0.5 in /home/jupyterlab/conda/envs/python/lib/python3.7/site-packages (from importlib-metadata->datasets) (3.15.0)\n",
      "Requirement already satisfied: python-dateutil>=2.7.3 in /home/jupyterlab/conda/envs/python/lib/python3.7/site-packages (from pandas->datasets) (2.8.2)\n",
      "Requirement already satisfied: pytz>=2017.3 in /home/jupyterlab/conda/envs/python/lib/python3.7/site-packages (from pandas->datasets) (2023.3)\n",
      "Requirement already satisfied: six in /home/jupyterlab/conda/envs/python/lib/python3.7/site-packages (from sacremoses->transformers[sentencepiece]) (1.16.0)\n",
      "Requirement already satisfied: click in /home/jupyterlab/conda/envs/python/lib/python3.7/site-packages (from sacremoses->transformers[sentencepiece]) (8.1.3)\n",
      "Requirement already satisfied: joblib in /home/jupyterlab/conda/envs/python/lib/python3.7/site-packages (from sacremoses->transformers[sentencepiece]) (1.3.2)\n"
     ]
    }
   ],
   "source": [
    "!pip install datasets evaluate transformers[sentencepiece]"
   ]
  },
  {
   "cell_type": "code",
   "execution_count": 5,
   "id": "c0f46339-6b49-4603-b415-ac418034477e",
   "metadata": {
    "tags": []
   },
   "outputs": [
    {
     "name": "stdout",
     "output_type": "stream",
     "text": [
      "Requirement already satisfied: sacremoses in /home/jupyterlab/conda/envs/python/lib/python3.7/site-packages (0.0.53)\n",
      "Requirement already satisfied: regex in /home/jupyterlab/conda/envs/python/lib/python3.7/site-packages (from sacremoses) (2024.4.16)\n",
      "Requirement already satisfied: six in /home/jupyterlab/conda/envs/python/lib/python3.7/site-packages (from sacremoses) (1.16.0)\n",
      "Requirement already satisfied: click in /home/jupyterlab/conda/envs/python/lib/python3.7/site-packages (from sacremoses) (8.1.3)\n",
      "Requirement already satisfied: joblib in /home/jupyterlab/conda/envs/python/lib/python3.7/site-packages (from sacremoses) (1.3.2)\n",
      "Requirement already satisfied: tqdm in /home/jupyterlab/conda/envs/python/lib/python3.7/site-packages (from sacremoses) (4.67.1)\n",
      "Requirement already satisfied: importlib-metadata in /home/jupyterlab/conda/envs/python/lib/python3.7/site-packages (from click->sacremoses) (4.11.4)\n",
      "Requirement already satisfied: zipp>=0.5 in /home/jupyterlab/conda/envs/python/lib/python3.7/site-packages (from importlib-metadata->click->sacremoses) (3.15.0)\n",
      "Requirement already satisfied: typing-extensions>=3.6.4 in /home/jupyterlab/conda/envs/python/lib/python3.7/site-packages (from importlib-metadata->click->sacremoses) (4.5.0)\n"
     ]
    }
   ],
   "source": [
    "!pip install sacremoses"
   ]
  },
  {
   "cell_type": "code",
   "execution_count": 1,
   "id": "f110892f-7f65-4084-927a-8c5597fb5790",
   "metadata": {
    "tags": []
   },
   "outputs": [],
   "source": [
    "import warnings\n",
    "warnings.filterwarnings('ignore')"
   ]
  },
  {
   "cell_type": "code",
   "execution_count": 2,
   "id": "22638eef-0094-4c17-8130-6a2c37970866",
   "metadata": {
    "tags": []
   },
   "outputs": [
    {
     "name": "stderr",
     "output_type": "stream",
     "text": [
      "/home/jupyterlab/conda/envs/python/lib/python3.7/site-packages/sklearn/utils/validation.py:37: DeprecationWarning: distutils Version classes are deprecated. Use packaging.version instead.\n",
      "  LARGE_SPARSE_SUPPORTED = LooseVersion(scipy_version) >= '0.14.0'\n"
     ]
    }
   ],
   "source": [
    "from transformers import pipeline\n",
    "from transformers import AutoTokenizer\n",
    "from transformers import AutoModel\n"
   ]
  },
  {
   "cell_type": "markdown",
   "id": "e5f160a4-a9a4-4973-911d-8264d0f2ff85",
   "metadata": {},
   "source": [
    "# SENTIMENT ANALYSIS"
   ]
  },
  {
   "cell_type": "code",
   "execution_count": 3,
   "id": "2244ca57-3631-47a3-8e19-45dffbc7b012",
   "metadata": {
    "tags": []
   },
   "outputs": [],
   "source": [
    "classifier = pipeline(\"sentiment-analysis\", model=\"distilbert-base-uncased-finetuned-sst-2-english\")"
   ]
  },
  {
   "cell_type": "code",
   "execution_count": 4,
   "id": "8380e16d-cbc2-4d87-afe6-316e0312553d",
   "metadata": {
    "tags": []
   },
   "outputs": [],
   "source": [
    "# cardiffnlp/twitter-roberta-base-sentiment model is being used."
   ]
  },
  {
   "cell_type": "code",
   "execution_count": 7,
   "id": "9b87f955-5911-4800-b344-106063adbed3",
   "metadata": {
    "tags": []
   },
   "outputs": [],
   "source": [
    "# Analyzing tweets"
   ]
  },
  {
   "cell_type": "code",
   "execution_count": 8,
   "id": "203d5323-51e7-4bad-9cb4-bd4a13e02fd9",
   "metadata": {
    "tags": []
   },
   "outputs": [
    {
     "data": {
      "text/plain": [
       "[{'label': 'LABEL_2', 'score': 0.9917186498641968}]"
      ]
     },
     "execution_count": 8,
     "metadata": {},
     "output_type": "execute_result"
    }
   ],
   "source": [
    "sentiment = pipeline(\n",
    "    task=\"text-classification\",\n",
    "    model=\"cardiffnlp/twitter-roberta-base-sentiment\"\n",
    ")\n",
    "\n",
    "tweet = \"I love the new features! 😍\"\n",
    "sentiment(tweet)"
   ]
  },
  {
   "cell_type": "markdown",
   "id": "7425765f-e2f4-4b50-b38a-7ef1ff87a295",
   "metadata": {},
   "source": [
    "# TOPIC CLASSIFICATION"
   ]
  },
  {
   "cell_type": "code",
   "execution_count": 9,
   "id": "0fc5e1ba-2b37-452d-a2f0-73aa2d8ed556",
   "metadata": {
    "tags": []
   },
   "outputs": [],
   "source": [
    "# zero-shot classification"
   ]
  },
  {
   "cell_type": "code",
   "execution_count": 6,
   "id": "4e5e96a8-4516-4d85-829b-e3b267a4a13f",
   "metadata": {
    "tags": []
   },
   "outputs": [
    {
     "data": {
      "text/plain": [
       "{'sequence': 'I love Canada, oh the beautiful maple leaf on the flag',\n",
       " 'labels': ['Country'],\n",
       " 'scores': [0.9876495599746704]}"
      ]
     },
     "execution_count": 6,
     "metadata": {},
     "output_type": "execute_result"
    }
   ],
   "source": [
    "classifier = pipeline(\n",
    "    task=\"zero-shot-classification\",\n",
    "    model=\"facebook/bart-large-mnli\")\n",
    "classifier(\n",
    "    \"I love Canada, oh the beautiful maple leaf on the flag\",\n",
    "    candidate_labels=[\"Country\"],\n",
    ")"
   ]
  },
  {
   "cell_type": "markdown",
   "id": "ebad8925-cafe-4c46-a475-da0f8566a74b",
   "metadata": {},
   "source": [
    "# TEXT GENERATOR"
   ]
  },
  {
   "cell_type": "code",
   "execution_count": 5,
   "id": "8f6a36e2-a67a-42b2-a97b-a48e7ba38b65",
   "metadata": {
    "tags": []
   },
   "outputs": [
    {
     "name": "stderr",
     "output_type": "stream",
     "text": [
      "Setting `pad_token_id` to `eos_token_id`:50256 for open-end generation.\n"
     ]
    },
    {
     "data": {
      "text/plain": [
       "[{'generated_text': \"Hello, I'm a language modeler so I know what to do and how to use data with it. How to use it and what data to\"},\n",
       " {'generated_text': \"Hello, I'm a language modeler, so this is pretty complicated, but I'm really happy to present you the code.\\n\\nclass Program\"},\n",
       " {'generated_text': \"Hello, I'm a language model student at the University of California. So I've started writing my first language design documentation, so I should be able\"}]"
      ]
     },
     "execution_count": 5,
     "metadata": {},
     "output_type": "execute_result"
    }
   ],
   "source": [
    "generator = pipeline('text-generation', model = 'gpt2')\n",
    "generator(\"Hello, I'm a language model\", max_length = 30, num_return_sequences=3)"
   ]
  },
  {
   "cell_type": "markdown",
   "id": "460cf1ee-ca60-4397-be1d-fcfc2a6e7897",
   "metadata": {},
   "source": [
    "# NAMED ENTITY RECOGNITION"
   ]
  },
  {
   "cell_type": "code",
   "execution_count": 9,
   "id": "72ef9637-dc8b-4d02-9517-b39647e07530",
   "metadata": {
    "tags": []
   },
   "outputs": [
    {
     "name": "stdout",
     "output_type": "stream",
     "text": [
      "[{'entity_group': 'ORG', 'score': 0.8332773, 'word': 'Deepseek', 'start': 0, 'end': 8}, {'entity_group': 'MISC', 'score': 0.9667167, 'word': \"OpenAI's ChatGPT\", 'start': 34, 'end': 51}]\n"
     ]
    }
   ],
   "source": [
    "nlp = pipeline(\"ner\", model=\"Jean-Baptiste/camembert-ner\", grouped_entities=True)\n",
    "eg = \"Deepseek is the new competitor for OpenAI's ChatGPT.\"\n",
    "\n",
    "ner_results = nlp(eg)\n",
    "print(ner_results)"
   ]
  },
  {
   "cell_type": "markdown",
   "id": "da074bca-7579-4509-a961-5ee25a4149f3",
   "metadata": {},
   "source": [
    "# Q/A"
   ]
  },
  {
   "cell_type": "code",
   "execution_count": 6,
   "id": "7beb31a8-a397-4927-aca9-5595b93fb910",
   "metadata": {
    "tags": []
   },
   "outputs": [
    {
     "data": {
      "text/plain": [
       "{'score': 0.9834370017051697, 'start': 0, 'end': 12, 'answer': 'Lake Ontario'}"
      ]
     },
     "execution_count": 6,
     "metadata": {},
     "output_type": "execute_result"
    }
   ],
   "source": [
    "qa = pipeline(\"question-answering\", model=\"distilbert-base-cased-distilled-squad\")\n",
    "qa(\n",
    "    question=\"Which lake is one of the five Great Lakes of North America?\",\n",
    "    context=\"Lake Ontario is one of the five Great Lakes of North America. It is surrounded on the north, west, and southwest by the Canadian province of Ontario, and on the south and east by the U.S. state of New York, whose water boundaries, along the international border, meet in the middle of the lake.\",\n",
    ")"
   ]
  },
  {
   "cell_type": "markdown",
   "id": "f916cc19-b589-41ba-a773-fe8e365d370d",
   "metadata": {},
   "source": [
    "# TEXT SUMMARIZATION"
   ]
  },
  {
   "cell_type": "code",
   "execution_count": 7,
   "id": "8bb74555-166e-46d4-abcd-170d7af93ffd",
   "metadata": {
    "tags": []
   },
   "outputs": [
    {
     "data": {
      "application/vnd.jupyter.widget-view+json": {
       "model_id": "1a06e821e082401490d9724c886e2771",
       "version_major": 2,
       "version_minor": 0
      },
      "text/plain": [
       "Downloading:   0%|          | 0.00/26.0 [00:00<?, ?B/s]"
      ]
     },
     "metadata": {},
     "output_type": "display_data"
    },
    {
     "data": {
      "application/vnd.jupyter.widget-view+json": {
       "model_id": "05695e8e92ee428ea7be58992e64a2ea",
       "version_major": 2,
       "version_minor": 0
      },
      "text/plain": [
       "Downloading:   0%|          | 0.00/878k [00:00<?, ?B/s]"
      ]
     },
     "metadata": {},
     "output_type": "display_data"
    },
    {
     "data": {
      "application/vnd.jupyter.widget-view+json": {
       "model_id": "0bcd3f1405ea463dba120a26425878d5",
       "version_major": 2,
       "version_minor": 0
      },
      "text/plain": [
       "Downloading:   0%|          | 0.00/446k [00:00<?, ?B/s]"
      ]
     },
     "metadata": {},
     "output_type": "display_data"
    },
    {
     "data": {
      "text/plain": [
       "[{'summary_text': ' Canada is the second-largest country in the world by land area . Located in North America, it shares the longest international border with the United States . Canada is made up of ten provinces and three territories, with Ottawa as its capital and major cities like Toronto, Vancouver, and Montreal'}]"
      ]
     },
     "execution_count": 7,
     "metadata": {},
     "output_type": "execute_result"
    }
   ],
   "source": [
    "summarizer = pipeline(\"summarization\", model=\"sshleifer/distilbart-cnn-12-6\",  max_length=59)\n",
    "summarizer(\n",
    "    \"\"\"\n",
    "    Canada is the second-largest country in the world by land area, known for its vast natural landscapes, multicultural population,\n",
    "    and high quality of life. Located in North America, it shares the longest international border with the United States. \n",
    "    Canada is made up of ten provinces and three territories, with Ottawa as its capital and major cities \n",
    "    like Toronto, Vancouver, and Montreal serving as economic and cultural hubs. \n",
    "\"\"\"\n",
    ")"
   ]
  },
  {
   "cell_type": "markdown",
   "id": "6acd3a5c-1606-449a-a9be-5a89af6bbb39",
   "metadata": {},
   "source": [
    "# LANGUAGE TRANSLATION"
   ]
  },
  {
   "cell_type": "code",
   "execution_count": 8,
   "id": "938bc006-b85c-4066-b77b-9da34fd44f85",
   "metadata": {
    "tags": []
   },
   "outputs": [
    {
     "data": {
      "application/vnd.jupyter.widget-view+json": {
       "model_id": "89c7a3a158d146d8a13618a9f78d2f6e",
       "version_major": 2,
       "version_minor": 0
      },
      "text/plain": [
       "Downloading:   0%|          | 0.00/1.18k [00:00<?, ?B/s]"
      ]
     },
     "metadata": {},
     "output_type": "display_data"
    },
    {
     "data": {
      "application/vnd.jupyter.widget-view+json": {
       "model_id": "48743d07351a402fb2526bbcc264e84c",
       "version_major": 2,
       "version_minor": 0
      },
      "text/plain": [
       "Downloading:   0%|          | 0.00/231M [00:00<?, ?B/s]"
      ]
     },
     "metadata": {},
     "output_type": "display_data"
    },
    {
     "data": {
      "application/vnd.jupyter.widget-view+json": {
       "model_id": "7e32bd55487c46e3b4212f5502c2caf8",
       "version_major": 2,
       "version_minor": 0
      },
      "text/plain": [
       "Downloading:   0%|          | 0.00/2.27k [00:00<?, ?B/s]"
      ]
     },
     "metadata": {},
     "output_type": "display_data"
    },
    {
     "data": {
      "application/vnd.jupyter.widget-view+json": {
       "model_id": "be415ca4d61f420ea35536a29a94a1d4",
       "version_major": 2,
       "version_minor": 0
      },
      "text/plain": [
       "Downloading:   0%|          | 0.00/773k [00:00<?, ?B/s]"
      ]
     },
     "metadata": {},
     "output_type": "display_data"
    },
    {
     "data": {
      "application/vnd.jupyter.widget-view+json": {
       "model_id": "62c33911ebee427c87bd2bf90942f569",
       "version_major": 2,
       "version_minor": 0
      },
      "text/plain": [
       "Downloading:   0%|          | 0.00/1.32M [00:00<?, ?B/s]"
      ]
     },
     "metadata": {},
     "output_type": "display_data"
    },
    {
     "name": "stdout",
     "output_type": "stream",
     "text": [
      "[{'translation_text': 'Toronto est ma ville préférée'}]\n"
     ]
    }
   ],
   "source": [
    "translator = pipeline(\"translation_en_to_fr\", model=\"t5-small\")\n",
    "print(translator(\"Toronto is my favourite city\", max_length=40))"
   ]
  },
  {
   "cell_type": "code",
   "execution_count": null,
   "id": "2a9d5589-55bb-4ff0-8824-2a4e7c4312fb",
   "metadata": {},
   "outputs": [],
   "source": []
  }
 ],
 "metadata": {
  "kernelspec": {
   "display_name": "Python",
   "language": "python",
   "name": "conda-env-python-py"
  },
  "language_info": {
   "codemirror_mode": {
    "name": "ipython",
    "version": 3
   },
   "file_extension": ".py",
   "mimetype": "text/x-python",
   "name": "python",
   "nbconvert_exporter": "python",
   "pygments_lexer": "ipython3",
   "version": "3.7.12"
  }
 },
 "nbformat": 4,
 "nbformat_minor": 5
}
